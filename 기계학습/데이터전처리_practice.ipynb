{
  "nbformat": 4,
  "nbformat_minor": 0,
  "metadata": {
    "colab": {
      "name": "데이터전처리_practice.ipynb",
      "provenance": [],
      "collapsed_sections": [],
      "mount_file_id": "1zQ19ddNKsTTS8z_qFF4os6deh32QWnRL",
      "authorship_tag": "ABX9TyOpAIREKXs9tOscBzP+xbTg",
      "include_colab_link": true
    },
    "kernelspec": {
      "name": "python3",
      "display_name": "Python 3"
    },
    "language_info": {
      "name": "python"
    }
  },
  "cells": [
    {
      "cell_type": "markdown",
      "metadata": {
        "id": "view-in-github",
        "colab_type": "text"
      },
      "source": [
        "<a href=\"https://colab.research.google.com/github/pennya6/AI_study/blob/main/%EA%B8%B0%EA%B3%84%ED%95%99%EC%8A%B5/%EB%8D%B0%EC%9D%B4%ED%84%B0%EC%A0%84%EC%B2%98%EB%A6%AC_practice.ipynb\" target=\"_parent\"><img src=\"https://colab.research.google.com/assets/colab-badge.svg\" alt=\"Open In Colab\"/></a>"
      ]
    },
    {
      "cell_type": "code",
      "metadata": {
        "id": "C6uLq4idWQz_"
      },
      "source": [
        "import numpy as np\n",
        "import pandas as pd"
      ],
      "execution_count": null,
      "outputs": []
    },
    {
      "cell_type": "code",
      "metadata": {
        "id": "Z5ckGYADXxbW"
      },
      "source": [
        "from sklearn.impute import SimpleImputer # used for handling missing data\n",
        "from sklearn.preprocessing import LabelEncoder # used for encoding categorical data\n",
        "from sklearn.model_selection import train_test_split # used for splitting training and testing data\n",
        "from sklearn.preprocessing import StandardScaler # used for feature scaling"
      ],
      "execution_count": null,
      "outputs": []
    },
    {
      "cell_type": "code",
      "metadata": {
        "id": "I7MgHUwVXxgR"
      },
      "source": [
        ""
      ],
      "execution_count": null,
      "outputs": []
    },
    {
      "cell_type": "code",
      "metadata": {
        "id": "IJjrPVlEWlHr"
      },
      "source": [
        "md=pd.read_csv(\"/content/drive/MyDrive/Colab Notebooks/기계학습/DataPreprocessing.csv\")"
      ],
      "execution_count": null,
      "outputs": []
    },
    {
      "cell_type": "code",
      "metadata": {
        "colab": {
          "base_uri": "https://localhost:8080/",
          "height": 357
        },
        "id": "JlicGdGBWlKW",
        "outputId": "848a2d33-37fd-4321-86eb-9bc9dc1f3c53"
      },
      "source": [
        "md"
      ],
      "execution_count": null,
      "outputs": [
        {
          "output_type": "execute_result",
          "data": {
            "text/html": [
              "<div>\n",
              "<style scoped>\n",
              "    .dataframe tbody tr th:only-of-type {\n",
              "        vertical-align: middle;\n",
              "    }\n",
              "\n",
              "    .dataframe tbody tr th {\n",
              "        vertical-align: top;\n",
              "    }\n",
              "\n",
              "    .dataframe thead th {\n",
              "        text-align: right;\n",
              "    }\n",
              "</style>\n",
              "<table border=\"1\" class=\"dataframe\">\n",
              "  <thead>\n",
              "    <tr style=\"text-align: right;\">\n",
              "      <th></th>\n",
              "      <th>Region</th>\n",
              "      <th>Age</th>\n",
              "      <th>Income</th>\n",
              "      <th>Online Shopper</th>\n",
              "    </tr>\n",
              "  </thead>\n",
              "  <tbody>\n",
              "    <tr>\n",
              "      <th>0</th>\n",
              "      <td>India</td>\n",
              "      <td>49.0</td>\n",
              "      <td>86400.0</td>\n",
              "      <td>No</td>\n",
              "    </tr>\n",
              "    <tr>\n",
              "      <th>1</th>\n",
              "      <td>Brazil</td>\n",
              "      <td>32.0</td>\n",
              "      <td>57600.0</td>\n",
              "      <td>Yes</td>\n",
              "    </tr>\n",
              "    <tr>\n",
              "      <th>2</th>\n",
              "      <td>USA</td>\n",
              "      <td>35.0</td>\n",
              "      <td>64800.0</td>\n",
              "      <td>No</td>\n",
              "    </tr>\n",
              "    <tr>\n",
              "      <th>3</th>\n",
              "      <td>Brazil</td>\n",
              "      <td>43.0</td>\n",
              "      <td>73200.0</td>\n",
              "      <td>No</td>\n",
              "    </tr>\n",
              "    <tr>\n",
              "      <th>4</th>\n",
              "      <td>USA</td>\n",
              "      <td>45.0</td>\n",
              "      <td>NaN</td>\n",
              "      <td>Yes</td>\n",
              "    </tr>\n",
              "    <tr>\n",
              "      <th>5</th>\n",
              "      <td>India</td>\n",
              "      <td>40.0</td>\n",
              "      <td>69600.0</td>\n",
              "      <td>Yes</td>\n",
              "    </tr>\n",
              "    <tr>\n",
              "      <th>6</th>\n",
              "      <td>Brazil</td>\n",
              "      <td>NaN</td>\n",
              "      <td>62400.0</td>\n",
              "      <td>No</td>\n",
              "    </tr>\n",
              "    <tr>\n",
              "      <th>7</th>\n",
              "      <td>India</td>\n",
              "      <td>53.0</td>\n",
              "      <td>94800.0</td>\n",
              "      <td>Yes</td>\n",
              "    </tr>\n",
              "    <tr>\n",
              "      <th>8</th>\n",
              "      <td>USA</td>\n",
              "      <td>55.0</td>\n",
              "      <td>99600.0</td>\n",
              "      <td>No</td>\n",
              "    </tr>\n",
              "    <tr>\n",
              "      <th>9</th>\n",
              "      <td>India</td>\n",
              "      <td>42.0</td>\n",
              "      <td>80400.0</td>\n",
              "      <td>Yes</td>\n",
              "    </tr>\n",
              "  </tbody>\n",
              "</table>\n",
              "</div>"
            ],
            "text/plain": [
              "   Region   Age   Income Online Shopper\n",
              "0   India  49.0  86400.0             No\n",
              "1  Brazil  32.0  57600.0            Yes\n",
              "2     USA  35.0  64800.0             No\n",
              "3  Brazil  43.0  73200.0             No\n",
              "4     USA  45.0      NaN            Yes\n",
              "5   India  40.0  69600.0            Yes\n",
              "6  Brazil   NaN  62400.0             No\n",
              "7   India  53.0  94800.0            Yes\n",
              "8     USA  55.0  99600.0             No\n",
              "9   India  42.0  80400.0            Yes"
            ]
          },
          "metadata": {},
          "execution_count": 7
        }
      ]
    },
    {
      "cell_type": "code",
      "metadata": {
        "id": "HSJLYmh1WlNZ"
      },
      "source": [
        "X=md.iloc[:,:-1].values\n",
        "Y=md.iloc[:,-1].values"
      ],
      "execution_count": null,
      "outputs": []
    },
    {
      "cell_type": "code",
      "metadata": {
        "colab": {
          "base_uri": "https://localhost:8080/"
        },
        "id": "RuUqzdIlWlQG",
        "outputId": "3de3d82a-9ed6-4221-f737-a3aea4b81c62"
      },
      "source": [
        "X"
      ],
      "execution_count": null,
      "outputs": [
        {
          "output_type": "execute_result",
          "data": {
            "text/plain": [
              "array([['India', 49.0, 86400.0],\n",
              "       ['Brazil', 32.0, 57600.0],\n",
              "       ['USA', 35.0, 64800.0],\n",
              "       ['Brazil', 43.0, 73200.0],\n",
              "       ['USA', 45.0, nan],\n",
              "       ['India', 40.0, 69600.0],\n",
              "       ['Brazil', nan, 62400.0],\n",
              "       ['India', 53.0, 94800.0],\n",
              "       ['USA', 55.0, 99600.0],\n",
              "       ['India', 42.0, 80400.0]], dtype=object)"
            ]
          },
          "metadata": {},
          "execution_count": 10
        }
      ]
    },
    {
      "cell_type": "code",
      "metadata": {
        "colab": {
          "base_uri": "https://localhost:8080/"
        },
        "id": "qLo8c0DGWlTA",
        "outputId": "8a37764a-2429-44f0-b141-3b9dff57dd74"
      },
      "source": [
        "Y"
      ],
      "execution_count": null,
      "outputs": [
        {
          "output_type": "execute_result",
          "data": {
            "text/plain": [
              "array(['No', 'Yes', 'No', 'No', 'Yes', 'Yes', 'No', 'Yes', 'No', 'Yes'],\n",
              "      dtype=object)"
            ]
          },
          "metadata": {},
          "execution_count": 11
        }
      ]
    },
    {
      "cell_type": "code",
      "metadata": {
        "id": "zKkHa2mvWlWH"
      },
      "source": [
        "#평균값으로 nan을 대체하겠다\n",
        "imputer=SimpleImputer(missing_values=np.nan,strategy='mean')\n",
        "imputer=imputer.fit(X[:,1:]) #인덱스 1부터 끝까지\n",
        "X[:,1:]=imputer.transform(X[:,1:])"
      ],
      "execution_count": null,
      "outputs": []
    },
    {
      "cell_type": "code",
      "metadata": {
        "colab": {
          "base_uri": "https://localhost:8080/"
        },
        "id": "B_2wWHgxWlZX",
        "outputId": "9091b6cb-124c-49fb-f496-3c871cf95aea"
      },
      "source": [
        "X"
      ],
      "execution_count": null,
      "outputs": [
        {
          "output_type": "execute_result",
          "data": {
            "text/plain": [
              "array([['India', 49.0, 86400.0],\n",
              "       ['Brazil', 32.0, 57600.0],\n",
              "       ['USA', 35.0, 64800.0],\n",
              "       ['Brazil', 43.0, 73200.0],\n",
              "       ['USA', 45.0, 76533.33333333333],\n",
              "       ['India', 40.0, 69600.0],\n",
              "       ['Brazil', 43.77777777777778, 62400.0],\n",
              "       ['India', 53.0, 94800.0],\n",
              "       ['USA', 55.0, 99600.0],\n",
              "       ['India', 42.0, 80400.0]], dtype=object)"
            ]
          },
          "metadata": {},
          "execution_count": 16
        }
      ]
    },
    {
      "cell_type": "code",
      "metadata": {
        "id": "9mEfMehkWlpQ"
      },
      "source": [
        "#Handling of categorical data\n",
        "from sklearn.preprocessing import LabelEncoder\n",
        "labelencoder_X=LabelEncoder()"
      ],
      "execution_count": null,
      "outputs": []
    },
    {
      "cell_type": "code",
      "metadata": {
        "id": "ndoRGjE-Z-OI"
      },
      "source": [
        "X[:,0]=labelencoder_X.fit_transform(X[:,0])"
      ],
      "execution_count": null,
      "outputs": []
    },
    {
      "cell_type": "code",
      "metadata": {
        "colab": {
          "base_uri": "https://localhost:8080/"
        },
        "id": "Y6m82KxeZ-Qa",
        "outputId": "577d23d5-73b9-4998-864d-99501df2d7d8"
      },
      "source": [
        "X[:,0]"
      ],
      "execution_count": null,
      "outputs": [
        {
          "output_type": "execute_result",
          "data": {
            "text/plain": [
              "array([1, 0, 2, 0, 2, 1, 0, 1, 2, 1], dtype=object)"
            ]
          },
          "metadata": {},
          "execution_count": 19
        }
      ]
    },
    {
      "cell_type": "code",
      "metadata": {
        "colab": {
          "base_uri": "https://localhost:8080/"
        },
        "id": "Q4uC_cDfZ-Ti",
        "outputId": "40bd164b-deba-48c7-cd85-893b1bf827d5"
      },
      "source": [
        "X"
      ],
      "execution_count": null,
      "outputs": [
        {
          "output_type": "execute_result",
          "data": {
            "text/plain": [
              "array([[1, 49.0, 86400.0],\n",
              "       [0, 32.0, 57600.0],\n",
              "       [2, 35.0, 64800.0],\n",
              "       [0, 43.0, 73200.0],\n",
              "       [2, 45.0, 76533.33333333333],\n",
              "       [1, 40.0, 69600.0],\n",
              "       [0, 43.77777777777778, 62400.0],\n",
              "       [1, 53.0, 94800.0],\n",
              "       [2, 55.0, 99600.0],\n",
              "       [1, 42.0, 80400.0]], dtype=object)"
            ]
          },
          "metadata": {},
          "execution_count": 20
        }
      ]
    },
    {
      "cell_type": "code",
      "metadata": {
        "id": "niNMJBztZ-We"
      },
      "source": [
        "#minmaxscale\n",
        "from sklearn.preprocessing import MinMaxScaler"
      ],
      "execution_count": null,
      "outputs": []
    },
    {
      "cell_type": "code",
      "metadata": {
        "id": "igqXmjFQZ-ZD"
      },
      "source": [
        "minmax_scaler=MinMaxScaler()\n"
      ],
      "execution_count": null,
      "outputs": []
    },
    {
      "cell_type": "code",
      "metadata": {
        "id": "Q7enym2KZ-bq"
      },
      "source": [
        "X=minmax_scaler.fit_transform(X)"
      ],
      "execution_count": null,
      "outputs": []
    },
    {
      "cell_type": "code",
      "metadata": {
        "colab": {
          "base_uri": "https://localhost:8080/"
        },
        "id": "cU7iDZJWZ-eL",
        "outputId": "9ca3ce72-eed4-481f-e08f-5cad7bfa7db3"
      },
      "source": [
        "X"
      ],
      "execution_count": null,
      "outputs": [
        {
          "output_type": "execute_result",
          "data": {
            "text/plain": [
              "array([[0.5       , 0.73913043, 0.68571429],\n",
              "       [0.        , 0.        , 0.        ],\n",
              "       [1.        , 0.13043478, 0.17142857],\n",
              "       [0.        , 0.47826087, 0.37142857],\n",
              "       [1.        , 0.56521739, 0.45079365],\n",
              "       [0.5       , 0.34782609, 0.28571429],\n",
              "       [0.        , 0.51207729, 0.11428571],\n",
              "       [0.5       , 0.91304348, 0.88571429],\n",
              "       [1.        , 1.        , 1.        ],\n",
              "       [0.5       , 0.43478261, 0.54285714]])"
            ]
          },
          "metadata": {},
          "execution_count": 25
        }
      ]
    },
    {
      "cell_type": "code",
      "metadata": {
        "id": "nOLxo57HWlr5"
      },
      "source": [
        ""
      ],
      "execution_count": null,
      "outputs": []
    },
    {
      "cell_type": "code",
      "metadata": {
        "id": "yXu2hd6zWluj"
      },
      "source": [
        ""
      ],
      "execution_count": null,
      "outputs": []
    }
  ]
}