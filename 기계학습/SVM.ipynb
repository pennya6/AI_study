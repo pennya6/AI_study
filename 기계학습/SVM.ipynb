{
  "nbformat": 4,
  "nbformat_minor": 0,
  "metadata": {
    "colab": {
      "name": "SVM.ipynb",
      "provenance": [],
      "collapsed_sections": [],
      "authorship_tag": "ABX9TyOn491ER9e1lTFXlAba1ffq",
      "include_colab_link": true
    },
    "kernelspec": {
      "name": "python3",
      "display_name": "Python 3"
    },
    "language_info": {
      "name": "python"
    }
  },
  "cells": [
    {
      "cell_type": "markdown",
      "metadata": {
        "id": "view-in-github",
        "colab_type": "text"
      },
      "source": [
        "<a href=\"https://colab.research.google.com/github/pennya6/AI_study/blob/main/%EA%B8%B0%EA%B3%84%ED%95%99%EC%8A%B5/SVM.ipynb\" target=\"_parent\"><img src=\"https://colab.research.google.com/assets/colab-badge.svg\" alt=\"Open In Colab\"/></a>"
      ]
    },
    {
      "cell_type": "code",
      "metadata": {
        "id": "tEgABmdTya57"
      },
      "source": [
        "class linearSVC(BaseEstimator):\n",
        "  def __init__(self, C=1, eta0=1, eta_d=10000, n_epochs=1000, random_state=None):\n",
        "    self.C = C\n",
        "    self.eta0 = eta0\n",
        "    self.n_epochs = n_epochs\n",
        "    self.random_state = random_state\n",
        "    self.eta_d = eta_d\n",
        "  \n",
        "  def eta(self, epoch):\n",
        "    return self.eta0 / (epoch + self.eta_d)\n",
        "  \n",
        "  def fit(self, X, y):\n",
        "    if self.random_state:\n",
        "      np.random.seed(self.random_state)\n",
        "    w = np.random.randn(X.shape[1], 1)\n",
        "    b = 0\n",
        "\n",
        "    m = len(X)\n",
        "    t = y * 2 - 1 #-1 if t==0, +1\n",
        "    m = len(X)\n",
        "    t = y * 2 - 1 #-1 if t==0, +1 if t==1\n",
        "    # 1 - t*(wx +b)\n",
        "    # 1 - tx * w - t*b\n",
        "    X_t = X * t\n",
        "    self.Js=[]\n",
        "\n",
        "    for epoch in range(self.n_epochs):\n",
        "      support_vectors_idx = (X_t.dot(w) +t*b<1).ravel()\n",
        "      X_t_sv = X_t[support_vectors_idx]\n",
        "      t_sv = t[support_vectors_idx]\n",
        "      J = 1/2 * np.sum(w*w) + self.C * (np.sum(1-X_t_sv.dot(w))-b*np.sum(t_sv)) #손실함수 부분\n",
        "      self.Js.append(J)\n",
        "      w_gradient_vector = w - self.C*np.sum(X_t_sv, axis=0).reshape(-1, 1)\n",
        "      b_derivative = -C * np.sum(t_sv)\n",
        "\n",
        "      w = w - self.eta(epoch) * w_gradient_vector\n",
        "      b = b - self.eta(epoch) * b_derivative\n",
        "    \n",
        "    self.intercept_ = np.array([b])\n",
        "    self.coef_ = np.array([w])\n",
        "    support_vectors_idx = (X_t.dot(w) + t*b<1).ravel()\n",
        "    self.support_vectors_ = X[support_vectors_idx]\n",
        "    return self\n",
        "\n",
        "  def decision_function(self, X):\n",
        "    return X.dot(self.coef_[0]) + self.intercept_[0]\n",
        "\n",
        "  def predict(self, X):\n",
        "    return (self.decision_function(X) >= 0).astype(np.float64)"
      ],
      "execution_count": 3,
      "outputs": []
    },
    {
      "cell_type": "code",
      "metadata": {
        "id": "wgiZs72Uyly5"
      },
      "source": [
        " from sklearn.base import BaseEstimator, TransformerMixin"
      ],
      "execution_count": 2,
      "outputs": []
    },
    {
      "cell_type": "code",
      "metadata": {
        "id": "Jmk2TIWYzFX_"
      },
      "source": [
        ""
      ],
      "execution_count": null,
      "outputs": []
    },
    {
      "cell_type": "code",
      "metadata": {
        "id": "WMDTddyUzFaf"
      },
      "source": [
        ""
      ],
      "execution_count": null,
      "outputs": []
    },
    {
      "cell_type": "code",
      "metadata": {
        "id": "mKtw4fh_zFfD"
      },
      "source": [
        ""
      ],
      "execution_count": null,
      "outputs": []
    }
  ]
}