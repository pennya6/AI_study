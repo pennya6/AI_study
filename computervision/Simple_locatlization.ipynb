{
  "nbformat": 4,
  "nbformat_minor": 0,
  "metadata": {
    "colab": {
      "name": "Simple_locatlization.ipynb",
      "provenance": [],
      "collapsed_sections": [],
      "authorship_tag": "ABX9TyOhzTw6TJuzrzR3v0QCdZCF",
      "include_colab_link": true
    },
    "kernelspec": {
      "name": "python3",
      "display_name": "Python 3"
    },
    "language_info": {
      "name": "python"
    }
  },
  "cells": [
    {
      "cell_type": "markdown",
      "metadata": {
        "id": "view-in-github",
        "colab_type": "text"
      },
      "source": [
        "<a href=\"https://colab.research.google.com/github/pennya6/AI_study/blob/main/computervision/Simple_locatlization.ipynb\" target=\"_parent\"><img src=\"https://colab.research.google.com/assets/colab-badge.svg\" alt=\"Open In Colab\"/></a>"
      ]
    },
    {
      "cell_type": "markdown",
      "source": [
        "오브벡트를 원으로 고려  \n",
        "CNN -> Feature Map -> FC Layer -> x,y, 반지름 예측"
      ],
      "metadata": {
        "id": "0z8GhTRYi8TP"
      }
    },
    {
      "cell_type": "code",
      "execution_count": 1,
      "metadata": {
        "id": "U2lPIvdggVej"
      },
      "outputs": [],
      "source": [
        "import cv2\n",
        "import numpy as np\n",
        "import matplotlib.pyplot as plt\n",
        "import random;\n",
        "import tqdm;"
      ]
    },
    {
      "cell_type": "code",
      "source": [
        "IMAGE_SIZE = 200;\n",
        "rad = random.randint(5,50);\n",
        "c_x = random.randint(rad,IMAGE_SIZE-rad);\n",
        "c_y = random.randint(rad,IMAGE_SIZE-rad);\n",
        "blank_image = np.ones(shape=[IMAGE_SIZE, IMAGE_SIZE], dtype=np.uint8)\n",
        "cv2.circle(blank_image, (c_x,c_y), rad, 0, -1);\n",
        "plt.imshow(blank_image);"
      ],
      "metadata": {
        "colab": {
          "base_uri": "https://localhost:8080/",
          "height": 269
        },
        "id": "hhcqzudJgbGo",
        "outputId": "5d1694b7-348c-4bbc-86c0-399f777152ae"
      },
      "execution_count": 2,
      "outputs": [
        {
          "output_type": "display_data",
          "data": {
            "image/png": "[encoded data removed]",
            "text/plain": [
              "<Figure size 432x288 with 1 Axes>"
            ]
          },
          "metadata": {
            "needs_background": "light"
          }
        }
      ]
    },
    {
      "cell_type": "code",
      "source": [
        "#위와 같은 이미지 총 만개 만들기\n",
        "def create_training_Data():\n",
        "  l = 10000;\n",
        "  X_train = np.zeros(shape=[l,IMAGE_SIZE, IMAGE_SIZE,1]);\n",
        "  Y_train = np.zeros(shape = [l,3]);\n",
        "  for i in range(l):\n",
        "    rad = random.randint(5,50);\n",
        "    c_x = random.randint(rad,IMAGE_SIZE-rad);\n",
        "    c_y = random.randint(rad,IMAGE_SIZE-rad);\n",
        "    Y_train[i,0]= c_x/IMAGE_SIZE;\n",
        "    Y_train[i,1] = c_y/IMAGE_SIZE;\n",
        "    Y_train[i,2] = rad/IMAGE_SIZE;\n",
        "    blank_image = np.ones(shape=[IMAGE_SIZE, IMAGE_SIZE], dtype=np.uint8);\n",
        "    X_train[i,:,:,0] = cv2.circle(blank_image, (c_x,c_y), rad, 0, -1);\n",
        "  return {'X_Train' : X_train, 'Y_Train': Y_train};"
      ],
      "metadata": {
        "id": "z6Tt05TtgbJF"
      },
      "execution_count": 3,
      "outputs": []
    },
    {
      "cell_type": "code",
      "source": [
        "training_Data = create_training_Data();"
      ],
      "metadata": {
        "id": "64m2h1_5gbLk"
      },
      "execution_count": 4,
      "outputs": []
    },
    {
      "cell_type": "code",
      "source": [
        "plt.imshow(training_Data['X_Train'][1999].reshape(200,200))\n",
        "IMAGE_SIZE*training_Data['Y_Train'][1999]"
      ],
      "metadata": {
        "colab": {
          "base_uri": "https://localhost:8080/",
          "height": 287
        },
        "id": "T3gXjXNPgbOH",
        "outputId": "fcdd59e6-db89-4b58-bc2d-a4a1c660cdbd"
      },
      "execution_count": 5,
      "outputs": [
        {
          "output_type": "execute_result",
          "data": {
            "text/plain": [
              "array([ 95., 148.,  45.])"
            ]
          },
          "metadata": {},
          "execution_count": 5
        },
        {
          "output_type": "display_data",
          "data": {
            "image/png": "[encoded data removed]",
            "text/plain": [
              "<Figure size 432x288 with 1 Axes>"
            ]
          },
          "metadata": {
            "needs_background": "light"
          }
        }
      ]
    },
    {
      "cell_type": "code",
      "source": [
        "import tensorflow\n",
        "from tensorflow.keras import layers\n",
        "from tensorflow.keras import Model"
      ],
      "metadata": {
        "id": "1kCiQGgGgbQ1"
      },
      "execution_count": 6,
      "outputs": []
    },
    {
      "cell_type": "code",
      "source": [
        "img_input = layers.Input(shape=(IMAGE_SIZE, IMAGE_SIZE, 1))\n",
        "\n",
        "x = layers.Conv2D(5, 3, activation='relu', strides = 1, padding = 'same')(img_input)\n",
        "x = layers.MaxPool2D(pool_size=2)(x)\n",
        "x = layers.Conv2D(10, 3, activation='relu', strides = 1)(x)\n",
        "x = layers.MaxPool2D(pool_size=2)(x)\n",
        "x = layers.Conv2D(20, 3, activation='relu', strides = 1)(x)\n",
        "x = layers.MaxPool2D(pool_size=2)(x)\n",
        "x = layers.Conv2D(3, 5, activation='relu', strides = 1)(x)\n",
        "\n",
        "# TODO\n",
        "#flatten + dense layer\n",
        "x = layers.Flatten()(x)\n",
        "output = layers.Dense(3, activation='relu')(x) #3 -> x,y좌표와 반지름 예측\n",
        "\n",
        "model = Model(img_input, output)\n",
        "\n",
        "model.summary()"
      ],
      "metadata": {
        "colab": {
          "base_uri": "https://localhost:8080/"
        },
        "id": "RaQ1pK96gjd-",
        "outputId": "27beeee2-3d60-42eb-da18-86d93bcf5e43"
      },
      "execution_count": 7,
      "outputs": [
        {
          "output_type": "stream",
          "name": "stdout",
          "text": [
            "Model: \"model\"\n",
            "_________________________________________________________________\n",
            " Layer (type)                Output Shape              Param #   \n",
            "=================================================================\n",
            " input_1 (InputLayer)        [(None, 200, 200, 1)]     0         \n",
            "                                                                 \n",
            " conv2d (Conv2D)             (None, 200, 200, 5)       50        \n",
            "                                                                 \n",
            " max_pooling2d (MaxPooling2D  (None, 100, 100, 5)      0         \n",
            " )                                                               \n",
            "                                                                 \n",
            " conv2d_1 (Conv2D)           (None, 98, 98, 10)        460       \n",
            "                                                                 \n",
            " max_pooling2d_1 (MaxPooling  (None, 49, 49, 10)       0         \n",
            " 2D)                                                             \n",
            "                                                                 \n",
            " conv2d_2 (Conv2D)           (None, 47, 47, 20)        1820      \n",
            "                                                                 \n",
            " max_pooling2d_2 (MaxPooling  (None, 23, 23, 20)       0         \n",
            " 2D)                                                             \n",
            "                                                                 \n",
            " conv2d_3 (Conv2D)           (None, 19, 19, 3)         1503      \n",
            "                                                                 \n",
            " flatten (Flatten)           (None, 1083)              0         \n",
            "                                                                 \n",
            " dense (Dense)               (None, 3)                 3252      \n",
            "                                                                 \n",
            "=================================================================\n",
            "Total params: 7,085\n",
            "Trainable params: 7,085\n",
            "Non-trainable params: 0\n",
            "_________________________________________________________________\n"
          ]
        }
      ]
    },
    {
      "cell_type": "code",
      "source": [
        "model.compile(loss='mean_squared_error',optimizer= 'adam', metrics=['mse']);"
      ],
      "metadata": {
        "id": "kKnVmgEMgjgc"
      },
      "execution_count": 8,
      "outputs": []
    },
    {
      "cell_type": "code",
      "source": [
        "model.fit(training_Data[\"X_Train\"],training_Data[\"Y_Train\"], epochs = 3,verbose=1)"
      ],
      "metadata": {
        "colab": {
          "base_uri": "https://localhost:8080/"
        },
        "id": "28KOdcisgji8",
        "outputId": "c760163c-2296-4b1d-b84b-4e3736481467"
      },
      "execution_count": 9,
      "outputs": [
        {
          "output_type": "stream",
          "name": "stdout",
          "text": [
            "Epoch 1/3\n",
            "313/313 [==============================] - 176s 559ms/step - loss: 0.0393 - mse: 0.0393\n",
            "Epoch 2/3\n",
            "313/313 [==============================] - 171s 546ms/step - loss: 0.0032 - mse: 0.0032\n",
            "Epoch 3/3\n",
            "313/313 [==============================] - 172s 549ms/step - loss: 0.0017 - mse: 0.0017\n"
          ]
        },
        {
          "output_type": "execute_result",
          "data": {
            "text/plain": [
              "<keras.callbacks.History at 0x7f3e044d1790>"
            ]
          },
          "metadata": {},
          "execution_count": 9
        }
      ]
    },
    {
      "cell_type": "code",
      "source": [
        "IMAGE_SIZE*model.predict(training_Data['X_Train'][3].reshape(1,IMAGE_SIZE, IMAGE_SIZE,1))"
      ],
      "metadata": {
        "colab": {
          "base_uri": "https://localhost:8080/"
        },
        "id": "X_bX2xO5gjle",
        "outputId": "97b2bdd0-4ae9-4481-f968-2e15546b89a1"
      },
      "execution_count": 10,
      "outputs": [
        {
          "output_type": "execute_result",
          "data": {
            "text/plain": [
              "array([[46.902172, 60.136433, 10.135859]], dtype=float32)"
            ]
          },
          "metadata": {},
          "execution_count": 10
        }
      ]
    },
    {
      "cell_type": "code",
      "source": [
        "IMAGE_SIZE*training_Data['Y_Train'][3]"
      ],
      "metadata": {
        "colab": {
          "base_uri": "https://localhost:8080/"
        },
        "id": "F1h_Uug-gqau",
        "outputId": "faea2cb9-e5ac-4fcf-8cb0-5db811475359"
      },
      "execution_count": 11,
      "outputs": [
        {
          "output_type": "execute_result",
          "data": {
            "text/plain": [
              "array([42., 57.,  8.])"
            ]
          },
          "metadata": {},
          "execution_count": 11
        }
      ]
    },
    {
      "cell_type": "code",
      "source": [
        "plt.imshow(training_Data['X_Train'][3].reshape(200,200))"
      ],
      "metadata": {
        "colab": {
          "base_uri": "https://localhost:8080/",
          "height": 287
        },
        "id": "Y5bw5mCFgqdd",
        "outputId": "8f29ca50-0317-4db6-98d1-238bcc7de8da"
      },
      "execution_count": 12,
      "outputs": [
        {
          "output_type": "execute_result",
          "data": {
            "text/plain": [
              "<matplotlib.image.AxesImage at 0x7f3e04347ed0>"
            ]
          },
          "metadata": {},
          "execution_count": 12
        },
        {
          "output_type": "display_data",
          "data": {
            "image/png": "[encoded data removed]",
            "text/plain": [
              "<Figure size 432x288 with 1 Axes>"
            ]
          },
          "metadata": {
            "needs_background": "light"
          }
        }
      ]
    },
    {
      "cell_type": "code",
      "source": [
        "IMAGE_SIZE = 200;\n",
        "rad = random.randint(5,50);\n",
        "c_x = random.randint(rad,IMAGE_SIZE-rad);\n",
        "c_y = random.randint(rad,IMAGE_SIZE-rad);\n",
        "print([c_x, c_y, rad])\n",
        "blank_image = np.ones(shape=[IMAGE_SIZE, IMAGE_SIZE], dtype=np.uint8)\n",
        "new_Image = cv2.circle(blank_image, (c_x,c_y), rad, 0, -1);\n",
        "plt.imshow(new_Image);\n",
        "print(IMAGE_SIZE*model.predict(new_Image.reshape(1,IMAGE_SIZE, IMAGE_SIZE,1)))"
      ],
      "metadata": {
        "colab": {
          "base_uri": "https://localhost:8080/",
          "height": 306
        },
        "id": "2-mQvpFTgqge",
        "outputId": "e25f069f-a8ab-4671-cba4-ad1e1ef2993e"
      },
      "execution_count": 13,
      "outputs": [
        {
          "output_type": "stream",
          "name": "stdout",
          "text": [
            "[164, 148, 36]\n",
            "[[161.89584  149.25041   27.940365]]\n"
          ]
        },
        {
          "output_type": "display_data",
          "data": {
            "image/png": "[encoded data removed]",
            "text/plain": [
              "<Figure size 432x288 with 1 Axes>"
            ]
          },
          "metadata": {
            "needs_background": "light"
          }
        }
      ]
    },
    {
      "cell_type": "code",
      "source": [
        ""
      ],
      "metadata": {
        "id": "52-H8BzXgtYd"
      },
      "execution_count": null,
      "outputs": []
    },
    {
      "cell_type": "code",
      "source": [
        ""
      ],
      "metadata": {
        "id": "-WCtOlbWgtbQ"
      },
      "execution_count": null,
      "outputs": []
    }
  ]
}